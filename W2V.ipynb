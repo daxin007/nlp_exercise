{
 "cells": [
  {
   "cell_type": "markdown",
   "metadata": {},
   "source": [
    "## Change text to one-hot, get contexts of the word"
   ]
  },
  {
   "cell_type": "code",
   "execution_count": 12,
   "metadata": {},
   "outputs": [
    {
     "name": "stdout",
     "output_type": "stream",
     "text": [
      "0 \n",
      " center word = [1. 0. 0. 0. 0. 0. 0. 0. 0. 0.] \n",
      " context words =\n",
      " [[[0. 1. 0. 0. 0. 0. 0. 0. 0. 0.]\n",
      "  [0. 0. 1. 0. 0. 0. 0. 0. 0. 0.]]]\n",
      "1 \n",
      " center word = [0. 1. 0. 0. 0. 0. 0. 0. 0. 0.] \n",
      " context words =\n",
      " [[[1. 0. 0. 0. 0. 0. 0. 0. 0. 0.]\n",
      "  [0. 0. 1. 0. 0. 0. 0. 0. 0. 0.]\n",
      "  [0. 0. 0. 1. 0. 0. 0. 0. 0. 0.]]]\n",
      "2 \n",
      " center word = [0. 0. 1. 0. 0. 0. 0. 0. 0. 0.] \n",
      " context words =\n",
      " [[[1. 0. 0. 0. 0. 0. 0. 0. 0. 0.]\n",
      "  [0. 1. 0. 0. 0. 0. 0. 0. 0. 0.]\n",
      "  [0. 0. 0. 1. 0. 0. 0. 0. 0. 0.]\n",
      "  [0. 0. 0. 0. 1. 0. 0. 0. 0. 0.]]]\n",
      "3 \n",
      " center word = [0. 0. 0. 1. 0. 0. 0. 0. 0. 0.] \n",
      " context words =\n",
      " [[[0. 1. 0. 0. 0. 0. 0. 0. 0. 0.]\n",
      "  [0. 0. 1. 0. 0. 0. 0. 0. 0. 0.]\n",
      "  [0. 0. 0. 0. 1. 0. 0. 0. 0. 0.]\n",
      "  [0. 0. 0. 0. 0. 1. 0. 0. 0. 0.]]]\n",
      "4 \n",
      " center word = [0. 0. 0. 0. 1. 0. 0. 0. 0. 0.] \n",
      " context words =\n",
      " [[[0. 0. 1. 0. 0. 0. 0. 0. 0. 0.]\n",
      "  [0. 0. 0. 1. 0. 0. 0. 0. 0. 0.]\n",
      "  [0. 0. 0. 0. 0. 1. 0. 0. 0. 0.]\n",
      "  [0. 0. 0. 0. 0. 0. 1. 0. 0. 0.]]]\n",
      "5 \n",
      " center word = [0. 0. 0. 0. 0. 1. 0. 0. 0. 0.] \n",
      " context words =\n",
      " [[[0. 0. 0. 1. 0. 0. 0. 0. 0. 0.]\n",
      "  [0. 0. 0. 0. 1. 0. 0. 0. 0. 0.]\n",
      "  [0. 0. 0. 0. 0. 0. 1. 0. 0. 0.]\n",
      "  [0. 0. 0. 0. 0. 0. 0. 1. 0. 0.]]]\n",
      "6 \n",
      " center word = [0. 0. 0. 0. 0. 0. 1. 0. 0. 0.] \n",
      " context words =\n",
      " [[[0. 0. 0. 0. 1. 0. 0. 0. 0. 0.]\n",
      "  [0. 0. 0. 0. 0. 1. 0. 0. 0. 0.]\n",
      "  [0. 0. 0. 0. 0. 0. 0. 1. 0. 0.]\n",
      "  [0. 0. 0. 0. 0. 0. 0. 0. 1. 0.]]]\n",
      "7 \n",
      " center word = [0. 0. 0. 0. 0. 0. 0. 1. 0. 0.] \n",
      " context words =\n",
      " [[[0. 0. 0. 0. 0. 1. 0. 0. 0. 0.]\n",
      "  [0. 0. 0. 0. 0. 0. 1. 0. 0. 0.]\n",
      "  [0. 0. 0. 0. 0. 0. 0. 0. 1. 0.]\n",
      "  [0. 0. 0. 0. 0. 0. 0. 0. 0. 1.]]]\n",
      "8 \n",
      " center word = [0. 0. 0. 0. 0. 0. 0. 0. 1. 0.] \n",
      " context words =\n",
      " [[[0. 0. 0. 0. 0. 0. 1. 0. 0. 0.]\n",
      "  [0. 0. 0. 0. 0. 0. 0. 1. 0. 0.]\n",
      "  [0. 0. 0. 0. 0. 0. 0. 0. 0. 1.]]]\n",
      "9 \n",
      " center word = [0. 0. 0. 0. 0. 0. 0. 0. 0. 1.] \n",
      " context words =\n",
      " [[[0. 0. 0. 0. 0. 0. 0. 1. 0. 0.]\n",
      "  [0. 0. 0. 0. 0. 0. 0. 0. 1. 0.]]]\n"
     ]
    }
   ],
   "source": [
    "import numpy as np\n",
    "from keras.preprocessing.text import Tokenizer\n",
    "from keras.preprocessing import sequence\n",
    "from keras.utils import np_utils\n",
    "\n",
    "def corpus_preprocessing(corpus,window_size):\n",
    "    # tokenize text\n",
    "    tokenizer = Tokenizer()\n",
    "    tokenizer.fit_on_texts(corpus)\n",
    "    corpus_tokenized = tokenizer.texts_to_sequences(corpus)\n",
    "    V = len(tokenizer.word_index)   \n",
    "    for words in corpus_tokenized:\n",
    "        L = len(words)\n",
    "        # get the context of each word\n",
    "        for index, word in enumerate(words):\n",
    "            contexts = []\n",
    "            labels = []\n",
    "            s = index - window_size\n",
    "            e = index + window_size + 1\n",
    "            contexts.append([words[i]-1 for i in range(s, e) if 0 <= i < L and i != index])\n",
    "            labels.append(word-1)\n",
    "            x = np_utils.to_categorical(contexts, V)\n",
    "            y = np_utils.to_categorical(labels, V)\n",
    "            yield (x, y.ravel())\n",
    "window_size = 2\n",
    "corpus = [\"I would like to do machine learning with my friends\"]\n",
    "for i, (x, y) in enumerate(corpus_preprocessing(corpus, window_size)):\n",
    "    print(i, \"\\n center word =\", y, \"\\n context words =\\n\",x)"
   ]
  },
  {
   "cell_type": "markdown",
   "metadata": {},
   "source": [
    "## softmax "
   ]
  },
  {
   "cell_type": "code",
   "execution_count": 13,
   "metadata": {},
   "outputs": [],
   "source": [
    "def softmax(x):\n",
    "    e_x = np.exp(x - np.max(x))\n",
    "    return e_x / e_x.sum(axis=0)"
   ]
  },
  {
   "cell_type": "markdown",
   "metadata": {},
   "source": [
    "## CBOW model"
   ]
  },
  {
   "cell_type": "code",
   "execution_count": 71,
   "metadata": {},
   "outputs": [],
   "source": [
    "def cbow(context, label, W1, W2, loss):\n",
    "    # forward\n",
    "    x = np.mean(context, axis=0)\n",
    "#     x = context[0]\n",
    "    h = np.dot(W1[0].T, x[0]) + np.dot(W1[1].T, x[1])\n",
    "    u = np.dot(W2.T, h)\n",
    "    y_pred = softmax(u) # output\n",
    "    \n",
    "    # error backpropagation, update parameters\n",
    "    e = -label + y_pred\n",
    "    dW2 = np.outer(h, e)\n",
    "    dW11 = np.outer(x[0], np.dot(W2, e))\n",
    "    dW12 = np.outer(x[1], np.dot(W2, e))    \n",
    "    new_W2 = W2 - eta * dW2\n",
    "    new_W1 = np.random.rand(window_size, V, N)\n",
    "    new_W1[0] = W1[0] - eta * dW11\n",
    "    new_W1[1] = W1[1] - eta * dW12\n",
    "    loss += -float(u[label == 1]) + np.log(np.sum(np.exp(u)))\n",
    "    return new_W1, new_W2, loss\n",
    "\n",
    "\n",
    "corpus = [\"I would like to do machine learning with my friends\"] \n",
    "N = 2 #size of hidden layer\n",
    "window_size = 2 #size of context windows\n",
    "eta = 0.1 #learning rate\n",
    "np.random.seed(100)\n",
    "V = 10 # length of phrase\n",
    "# Initialization weight\n",
    "W1 = np.random.rand(window_size, V, N)\n",
    "W2 = np.random.rand(N, V)\n",
    "losses = []\n",
    "for j in range(1000):\n",
    "    loss = 0.\n",
    "    s = 0\n",
    "    for i, (context, label) in enumerate(corpus_preprocessing(corpus, window_size)):\n",
    "        W1, W2, loss = cbow(context, label, W1, W2, loss)\n",
    "        s+=loss\n",
    "    losses.append(s)\n",
    "#         losses.append(loss)\n",
    "#     print(loss)"
   ]
  },
  {
   "cell_type": "markdown",
   "metadata": {},
   "source": [
    "## Result"
   ]
  },
  {
   "cell_type": "code",
   "execution_count": 72,
   "metadata": {},
   "outputs": [
    {
     "data": {
      "image/png": "[encoded data removed]",
      "text/plain": [
       "<Figure size 432x288 with 1 Axes>"
      ]
     },
     "metadata": {
      "needs_background": "light"
     },
     "output_type": "display_data"
    }
   ],
   "source": [
    "import matplotlib.pyplot as plt\n",
    "plt.figure()\n",
    "plt.title(\"loss of cbow\")\n",
    "plt.plot(losses)\n",
    "plt.show()"
   ]
  },
  {
   "cell_type": "code",
   "execution_count": null,
   "metadata": {},
   "outputs": [],
   "source": []
  }
 ],
 "metadata": {
  "kernelspec": {
   "display_name": "Python 3",
   "language": "python",
   "name": "python3"
  },
  "language_info": {
   "codemirror_mode": {
    "name": "ipython",
    "version": 3
   },
   "file_extension": ".py",
   "mimetype": "text/x-python",
   "name": "python",
   "nbconvert_exporter": "python",
   "pygments_lexer": "ipython3",
   "version": "3.6.7"
  }
 },
 "nbformat": 4,
 "nbformat_minor": 2
}
